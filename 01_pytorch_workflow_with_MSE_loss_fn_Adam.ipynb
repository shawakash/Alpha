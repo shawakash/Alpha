{
  "nbformat": 4,
  "nbformat_minor": 0,
  "metadata": {
    "colab": {
      "provenance": [],
      "authorship_tag": "ABX9TyPEyH6riGci6BEeHocmWFa3",
      "include_colab_link": true
    },
    "kernelspec": {
      "name": "python3",
      "display_name": "Python 3"
    },
    "language_info": {
      "name": "python"
    }
  },
  "cells": [
    {
      "cell_type": "markdown",
      "metadata": {
        "id": "view-in-github",
        "colab_type": "text"
      },
      "source": [
        "<a href=\"https://colab.research.google.com/github/shawakash/Alpha/blob/main/01_pytorch_workflow_with_MSE_loss_fn_Adam.ipynb\" target=\"_parent\"><img src=\"https://colab.research.google.com/assets/colab-badge.svg\" alt=\"Open In Colab\"/></a>"
      ]
    },
    {
      "cell_type": "code",
      "execution_count": 123,
      "metadata": {
        "colab": {
          "base_uri": "https://localhost:8080/",
          "height": 36
        },
        "id": "cFCXtjTihyRP",
        "outputId": "65979dd0-b815-42f9-f09e-3c743cac2a38"
      },
      "outputs": [
        {
          "output_type": "execute_result",
          "data": {
            "text/plain": [
              "'2.0.1+cu118'"
            ],
            "application/vnd.google.colaboratory.intrinsic+json": {
              "type": "string"
            }
          },
          "metadata": {},
          "execution_count": 123
        }
      ],
      "source": [
        "import torch\n",
        "from torch import nn # nn contains all of PyTorch's building blocks for neural networks\n",
        "import matplotlib.pyplot as plt\n",
        "\n",
        "# Check PyTorch version\n",
        "torch.__version__"
      ]
    },
    {
      "cell_type": "code",
      "source": [
        "# y = weights * X + bias\n",
        "\n",
        "# let\n",
        "weight = 0.7\n",
        "bias = 0.3\n",
        "\n",
        "start = 0\n",
        "end = 1\n",
        "step = 0.02\n",
        "X = torch.arange(start, end, step).unsqueeze(dim=1)\n",
        "y = weight * X + bias\n",
        "\n",
        "X[:10], y[:10]"
      ],
      "metadata": {
        "colab": {
          "base_uri": "https://localhost:8080/"
        },
        "id": "CnSrdvfwj0Y7",
        "outputId": "6f6b1c7c-c2c3-44f8-9722-1da27702d358"
      },
      "execution_count": 124,
      "outputs": [
        {
          "output_type": "execute_result",
          "data": {
            "text/plain": [
              "(tensor([[0.0000],\n",
              "         [0.0200],\n",
              "         [0.0400],\n",
              "         [0.0600],\n",
              "         [0.0800],\n",
              "         [0.1000],\n",
              "         [0.1200],\n",
              "         [0.1400],\n",
              "         [0.1600],\n",
              "         [0.1800]]),\n",
              " tensor([[0.3000],\n",
              "         [0.3140],\n",
              "         [0.3280],\n",
              "         [0.3420],\n",
              "         [0.3560],\n",
              "         [0.3700],\n",
              "         [0.3840],\n",
              "         [0.3980],\n",
              "         [0.4120],\n",
              "         [0.4260]]))"
            ]
          },
          "metadata": {},
          "execution_count": 124
        }
      ]
    },
    {
      "cell_type": "code",
      "source": [
        "len(X), len(y)"
      ],
      "metadata": {
        "colab": {
          "base_uri": "https://localhost:8080/"
        },
        "id": "pMbiSS90mW5K",
        "outputId": "c2015537-11a2-454d-f973-0dd533beca8f"
      },
      "execution_count": 125,
      "outputs": [
        {
          "output_type": "execute_result",
          "data": {
            "text/plain": [
              "(50, 50)"
            ]
          },
          "metadata": {},
          "execution_count": 125
        }
      ]
    },
    {
      "cell_type": "code",
      "source": [
        "train_split = int(0.8 * len(X))\n",
        "train_split"
      ],
      "metadata": {
        "colab": {
          "base_uri": "https://localhost:8080/"
        },
        "id": "itcT3kRumiIT",
        "outputId": "3c184014-0999-4983-f829-5f6ea2dd318a"
      },
      "execution_count": 126,
      "outputs": [
        {
          "output_type": "execute_result",
          "data": {
            "text/plain": [
              "40"
            ]
          },
          "metadata": {},
          "execution_count": 126
        }
      ]
    },
    {
      "cell_type": "code",
      "source": [
        "X_train, y_train = X[:train_split], y[:train_split]\n",
        "X_train, y_train"
      ],
      "metadata": {
        "colab": {
          "base_uri": "https://localhost:8080/"
        },
        "id": "OOFnxZBepYVg",
        "outputId": "37b5beef-53fc-4eb2-e1d0-2c8872705dd3"
      },
      "execution_count": 127,
      "outputs": [
        {
          "output_type": "execute_result",
          "data": {
            "text/plain": [
              "(tensor([[0.0000],\n",
              "         [0.0200],\n",
              "         [0.0400],\n",
              "         [0.0600],\n",
              "         [0.0800],\n",
              "         [0.1000],\n",
              "         [0.1200],\n",
              "         [0.1400],\n",
              "         [0.1600],\n",
              "         [0.1800],\n",
              "         [0.2000],\n",
              "         [0.2200],\n",
              "         [0.2400],\n",
              "         [0.2600],\n",
              "         [0.2800],\n",
              "         [0.3000],\n",
              "         [0.3200],\n",
              "         [0.3400],\n",
              "         [0.3600],\n",
              "         [0.3800],\n",
              "         [0.4000],\n",
              "         [0.4200],\n",
              "         [0.4400],\n",
              "         [0.4600],\n",
              "         [0.4800],\n",
              "         [0.5000],\n",
              "         [0.5200],\n",
              "         [0.5400],\n",
              "         [0.5600],\n",
              "         [0.5800],\n",
              "         [0.6000],\n",
              "         [0.6200],\n",
              "         [0.6400],\n",
              "         [0.6600],\n",
              "         [0.6800],\n",
              "         [0.7000],\n",
              "         [0.7200],\n",
              "         [0.7400],\n",
              "         [0.7600],\n",
              "         [0.7800]]),\n",
              " tensor([[0.3000],\n",
              "         [0.3140],\n",
              "         [0.3280],\n",
              "         [0.3420],\n",
              "         [0.3560],\n",
              "         [0.3700],\n",
              "         [0.3840],\n",
              "         [0.3980],\n",
              "         [0.4120],\n",
              "         [0.4260],\n",
              "         [0.4400],\n",
              "         [0.4540],\n",
              "         [0.4680],\n",
              "         [0.4820],\n",
              "         [0.4960],\n",
              "         [0.5100],\n",
              "         [0.5240],\n",
              "         [0.5380],\n",
              "         [0.5520],\n",
              "         [0.5660],\n",
              "         [0.5800],\n",
              "         [0.5940],\n",
              "         [0.6080],\n",
              "         [0.6220],\n",
              "         [0.6360],\n",
              "         [0.6500],\n",
              "         [0.6640],\n",
              "         [0.6780],\n",
              "         [0.6920],\n",
              "         [0.7060],\n",
              "         [0.7200],\n",
              "         [0.7340],\n",
              "         [0.7480],\n",
              "         [0.7620],\n",
              "         [0.7760],\n",
              "         [0.7900],\n",
              "         [0.8040],\n",
              "         [0.8180],\n",
              "         [0.8320],\n",
              "         [0.8460]]))"
            ]
          },
          "metadata": {},
          "execution_count": 127
        }
      ]
    },
    {
      "cell_type": "code",
      "source": [
        "X_test, y_test = X[train_split:], y[train_split:]"
      ],
      "metadata": {
        "id": "CqAcAbA5pk_r"
      },
      "execution_count": 128,
      "outputs": []
    },
    {
      "cell_type": "code",
      "source": [
        "len(X_train), len(y_train), len(X_test), len(y_test)"
      ],
      "metadata": {
        "colab": {
          "base_uri": "https://localhost:8080/"
        },
        "id": "iaobSNnop_6g",
        "outputId": "84a07f62-6e2a-4a91-e278-38db277c1f69"
      },
      "execution_count": 129,
      "outputs": [
        {
          "output_type": "execute_result",
          "data": {
            "text/plain": [
              "(40, 40, 10, 10)"
            ]
          },
          "metadata": {},
          "execution_count": 129
        }
      ]
    },
    {
      "cell_type": "code",
      "source": [
        "def plot_predictions(train_data=X_train,\n",
        "                     train_labels=y_train,\n",
        "                     test_data=X_test,\n",
        "                     test_labels=y_test,\n",
        "                     predictions=None):\n",
        "  \"\"\"\n",
        "  Plots training data, test data and compares predictions.\n",
        "  \"\"\"\n",
        "  plt.figure(figsize=(10, 7))\n",
        "\n",
        "  # Plot training data in blue\n",
        "  plt.scatter(train_data, train_labels, c=\"b\", s=4, label=\"Training data\")\n",
        "\n",
        "  # Plot test data in green\n",
        "  plt.scatter(test_data, test_labels, c=\"g\", s=4, label=\"Testing data\")\n",
        "\n",
        "  if predictions is not None:\n",
        "    # Plot the predictions in red (predictions were made on the test data)\n",
        "    plt.scatter(test_data, predictions, c=\"r\", s=4, label=\"Predictions\")\n",
        "\n",
        "  # Show the legend\n",
        "  plt.legend(prop={\"size\": 14});"
      ],
      "metadata": {
        "id": "2eLs04h9q_qz"
      },
      "execution_count": 130,
      "outputs": []
    },
    {
      "cell_type": "code",
      "source": [
        "plot_predictions();"
      ],
      "metadata": {
        "colab": {
          "base_uri": "https://localhost:8080/",
          "height": 599
        },
        "id": "8qOnKSoStzoK",
        "outputId": "bc9607b9-3f10-482a-aec7-5580f5282dad"
      },
      "execution_count": 131,
      "outputs": [
        {
          "output_type": "display_data",
          "data": {
            "text/plain": [
              "<Figure size 1000x700 with 1 Axes>"
            ],
            "image/png": "[encoded data removed]"
          },
          "metadata": {}
        }
      ]
    },
    {
      "cell_type": "code",
      "source": [
        "import torch\n",
        "from torch import nn\n",
        "\n",
        "class LinearRegressionModel(nn.Module):\n",
        "  def __init__(self):\n",
        "     super().__init__()\n",
        "     self.weights = nn.Parameter(torch.randn(1,\n",
        "                                            requires_grad=True,\n",
        "                                            dtype=torch.float))\n",
        "     self.bias = nn.Parameter(torch.randn(1,\n",
        "                                         requires_grad=True,\n",
        "                                         dtype=torch.float))\n",
        "\n",
        "     #feed forward\n",
        "\n",
        "  def forward(self, x: torch.Tensor) -> torch.Tensor: # <- \"x\" is the input data (e.g. training/testing features)\n",
        "    return self.weights * x + self.bias # <- this is the linear regression formula (y = m*x + b)\n",
        ""
      ],
      "metadata": {
        "id": "krqjs8JRt4mj"
      },
      "execution_count": 132,
      "outputs": []
    },
    {
      "cell_type": "code",
      "source": [
        "torch.manual_seed(42)\n",
        "\n",
        "model_0 = LinearRegressionModel()\n",
        "list(model_0.parameters())"
      ],
      "metadata": {
        "colab": {
          "base_uri": "https://localhost:8080/"
        },
        "id": "y7tL0u-YzxHp",
        "outputId": "a6945b97-08ef-476a-f7e1-fd746db98bb8"
      },
      "execution_count": 133,
      "outputs": [
        {
          "output_type": "execute_result",
          "data": {
            "text/plain": [
              "[Parameter containing:\n",
              " tensor([0.3367], requires_grad=True),\n",
              " Parameter containing:\n",
              " tensor([0.1288], requires_grad=True)]"
            ]
          },
          "metadata": {},
          "execution_count": 133
        }
      ]
    },
    {
      "cell_type": "code",
      "source": [
        "model_0.state_dict()"
      ],
      "metadata": {
        "colab": {
          "base_uri": "https://localhost:8080/"
        },
        "id": "dvBl-3gx9r6J",
        "outputId": "2e67c8ea-128a-4806-c85e-b6a456c8230c"
      },
      "execution_count": 134,
      "outputs": [
        {
          "output_type": "execute_result",
          "data": {
            "text/plain": [
              "OrderedDict([('weights', tensor([0.3367])), ('bias', tensor([0.1288]))])"
            ]
          },
          "metadata": {},
          "execution_count": 134
        }
      ]
    },
    {
      "cell_type": "code",
      "source": [
        "X_test, y_test"
      ],
      "metadata": {
        "colab": {
          "base_uri": "https://localhost:8080/"
        },
        "id": "jXTWj6WC-sEB",
        "outputId": "ca5093b5-0e0b-47ed-86d3-51fcaff62606"
      },
      "execution_count": 135,
      "outputs": [
        {
          "output_type": "execute_result",
          "data": {
            "text/plain": [
              "(tensor([[0.8000],\n",
              "         [0.8200],\n",
              "         [0.8400],\n",
              "         [0.8600],\n",
              "         [0.8800],\n",
              "         [0.9000],\n",
              "         [0.9200],\n",
              "         [0.9400],\n",
              "         [0.9600],\n",
              "         [0.9800]]),\n",
              " tensor([[0.8600],\n",
              "         [0.8740],\n",
              "         [0.8880],\n",
              "         [0.9020],\n",
              "         [0.9160],\n",
              "         [0.9300],\n",
              "         [0.9440],\n",
              "         [0.9580],\n",
              "         [0.9720],\n",
              "         [0.9860]]))"
            ]
          },
          "metadata": {},
          "execution_count": 135
        }
      ]
    },
    {
      "cell_type": "code",
      "source": [
        "with torch.inference_mode():\n",
        "  y_preds = model_0(X_test)\n",
        "\n",
        "y_preds, len(y_preds)"
      ],
      "metadata": {
        "colab": {
          "base_uri": "https://localhost:8080/"
        },
        "id": "u3Us7iqX_3nd",
        "outputId": "857533a7-dc3b-4c71-98a4-5b3065914f7e"
      },
      "execution_count": 136,
      "outputs": [
        {
          "output_type": "execute_result",
          "data": {
            "text/plain": [
              "(tensor([[0.3982],\n",
              "         [0.4049],\n",
              "         [0.4116],\n",
              "         [0.4184],\n",
              "         [0.4251],\n",
              "         [0.4318],\n",
              "         [0.4386],\n",
              "         [0.4453],\n",
              "         [0.4520],\n",
              "         [0.4588]]),\n",
              " 10)"
            ]
          },
          "metadata": {},
          "execution_count": 136
        }
      ]
    },
    {
      "cell_type": "code",
      "source": [
        "plot_predictions(predictions=y_preds);"
      ],
      "metadata": {
        "colab": {
          "base_uri": "https://localhost:8080/",
          "height": 599
        },
        "id": "nA8gM8m4D7P6",
        "outputId": "5c24133b-03ed-481e-b428-8568f3d4ca3c"
      },
      "execution_count": 137,
      "outputs": [
        {
          "output_type": "display_data",
          "data": {
            "text/plain": [
              "<Figure size 1000x700 with 1 Axes>"
            ],
            "image/png": "[encoded data removed]"
          },
          "metadata": {}
        }
      ]
    },
    {
      "cell_type": "code",
      "source": [
        "loss_fn = nn.MSELoss()\n",
        "optimizer = torch.optim.Adam(params=model_0.parameters(),\n",
        "                            lr=0.01)"
      ],
      "metadata": {
        "id": "1U0DDpUsFAdu"
      },
      "execution_count": 325,
      "outputs": []
    },
    {
      "cell_type": "code",
      "source": [
        "epochs = 300\n",
        "\n",
        "torch.manual_seed(42)\n",
        "\n",
        "train_loss_value = []\n",
        "test_loss_value = []\n",
        "epoch_count = []\n",
        "\n",
        "for epoch in range(epochs):\n",
        "  # set the model to the training mode\n",
        "  model_0.train()\n",
        "\n",
        "  # 1. forward pass the data to get the current predicted value\n",
        "  y_preds = model_0(X_train)\n",
        "\n",
        "  # 2. Calculate the loss function\n",
        "  loss = loss_fn(y_preds, y_train)\n",
        "  # print(f\"Loss after {epoch} epochs: {loss}\")\n",
        "\n",
        "  # 3. Optimizer zero grad\n",
        "  optimizer.zero_grad()\n",
        "\n",
        "  # 4. Perform backpropagation on the loss with respect to the parameters of the model\n",
        "  loss.backward()\n",
        "\n",
        "  #5. set the optimizer (perform gradient descent)\n",
        "  optimizer.step()\n",
        "\n",
        "  # Testing\n",
        "  model_0.eval()\n",
        "  with torch.inference_mode():\n",
        "    test_pred = model_0(X_test)\n",
        "    test_loss = loss_fn(test_pred, y_test.type(torch.float))\n",
        "\n",
        "  if epoch%10 == 0:\n",
        "    epoch_count.append(epoch)\n",
        "    test_loss_value.append(test_loss.detach().numpy())\n",
        "    train_loss_value.append(loss.detach().numpy())\n",
        "    print(f\"Epoch: {epoch} | Loss: {loss} | Test Loss: {test_loss}\")\n"
      ],
      "metadata": {
        "colab": {
          "base_uri": "https://localhost:8080/"
        },
        "id": "nmUWP6_CMjd7",
        "outputId": "1d814319-e0fc-4f4f-bb09-5b0d4c2ae847"
      },
      "execution_count": 326,
      "outputs": [
        {
          "output_type": "stream",
          "name": "stdout",
          "text": [
            "Epoch: 0 | Loss: 7.97223378867784e-07 | Test Loss: 0.0003110591205768287\n",
            "Epoch: 10 | Loss: 4.1165039874613285e-05 | Test Loss: 2.7873198632732965e-05\n",
            "Epoch: 20 | Loss: 1.4005304365127813e-05 | Test Loss: 2.592588498373516e-05\n",
            "Epoch: 30 | Loss: 1.5541678521913127e-06 | Test Loss: 7.915734386187978e-06\n",
            "Epoch: 40 | Loss: 6.579517730642692e-08 | Test Loss: 1.7874247077998007e-06\n",
            "Epoch: 50 | Loss: 1.456187259663011e-08 | Test Loss: 6.463245654231287e-07\n",
            "Epoch: 60 | Loss: 4.646601325930533e-08 | Test Loss: 3.798219836426142e-07\n",
            "Epoch: 70 | Loss: 7.357829190368648e-08 | Test Loss: 1.7722206280268438e-07\n",
            "Epoch: 80 | Loss: 3.771556933429565e-08 | Test Loss: 2.2100103080902045e-08\n",
            "Epoch: 90 | Loss: 1.141081229505403e-09 | Test Loss: 4.649125084910111e-09\n",
            "Epoch: 100 | Loss: 3.67634278575224e-09 | Test Loss: 7.935907042622148e-09\n",
            "Epoch: 110 | Loss: 6.308017441725156e-10 | Test Loss: 8.032863263451873e-11\n",
            "Epoch: 120 | Loss: 5.122308133209685e-10 | Test Loss: 9.596252681376427e-10\n",
            "Epoch: 130 | Loss: 6.467049118441537e-12 | Test Loss: 1.4423591487844334e-10\n",
            "Epoch: 140 | Loss: 7.454883238500187e-11 | Test Loss: 1.8846434829411507e-11\n",
            "Epoch: 150 | Loss: 2.209499250227509e-11 | Test Loss: 4.4290970196980695e-11\n",
            "Epoch: 160 | Loss: 9.688471813013022e-13 | Test Loss: 1.4702905559715873e-11\n",
            "Epoch: 170 | Loss: 2.859712521039587e-13 | Test Loss: 1.9976908582214348e-12\n",
            "Epoch: 180 | Loss: 5.669686725315315e-13 | Test Loss: 1.161737400072818e-13\n",
            "Epoch: 190 | Loss: 2.901900995975343e-13 | Test Loss: 0.0\n",
            "Epoch: 200 | Loss: 1.501465645608116e-13 | Test Loss: 8.881784197001252e-15\n",
            "Epoch: 210 | Loss: 6.619149808340455e-14 | Test Loss: 8.881784197001252e-15\n",
            "Epoch: 220 | Loss: 2.7799983858987562e-14 | Test Loss: 0.0\n",
            "Epoch: 230 | Loss: 1.7097434155710937e-15 | Test Loss: 1.7763568394002505e-15\n",
            "Epoch: 240 | Loss: 6.883382540917734e-16 | Test Loss: 8.881784197001252e-15\n",
            "Epoch: 250 | Loss: 4.440892098500626e-15 | Test Loss: 3.552713678800501e-15\n",
            "Epoch: 260 | Loss: 4.196642948379797e-15 | Test Loss: 1.7763568394002505e-15\n",
            "Epoch: 270 | Loss: 0.0 | Test Loss: 8.881784197001252e-15\n",
            "Epoch: 280 | Loss: 1.1102230246251565e-15 | Test Loss: 3.552713678800501e-15\n",
            "Epoch: 290 | Loss: 0.0 | Test Loss: 0.0\n"
          ]
        }
      ]
    },
    {
      "cell_type": "code",
      "source": [
        "# y_preds, y_train"
      ],
      "metadata": {
        "id": "mByxh_lIf6KA"
      },
      "execution_count": 327,
      "outputs": []
    },
    {
      "cell_type": "code",
      "source": [
        "with torch.inference_mode():\n",
        "  y_preds_new = model_0(X_test)"
      ],
      "metadata": {
        "id": "138k-o-sg2Yu"
      },
      "execution_count": 328,
      "outputs": []
    },
    {
      "cell_type": "code",
      "source": [
        "plot_predictions(predictions=y_preds_new);"
      ],
      "metadata": {
        "colab": {
          "base_uri": "https://localhost:8080/",
          "height": 599
        },
        "id": "oavx3pAthfaf",
        "outputId": "2c9fbc8c-35a3-4958-c4bb-7c7650e9bfa5"
      },
      "execution_count": 329,
      "outputs": [
        {
          "output_type": "display_data",
          "data": {
            "text/plain": [
              "<Figure size 1000x700 with 1 Axes>"
            ],
            "image/png": "[encoded data removed]"
          },
          "metadata": {}
        }
      ]
    },
    {
      "cell_type": "code",
      "source": [
        "plt.plot(epoch_count, train_loss_value, label=\"Train Loss\")\n",
        "plt.plot(epoch_count, test_loss_value, label=\"Test Loss\")\n",
        "plt.title(\"Training and Test Loss curves :)\")\n",
        "plt.xlabel(\"Epochs ->\")\n",
        "plt.ylabel(\"Loss ->\")\n",
        "plt.legend();"
      ],
      "metadata": {
        "colab": {
          "base_uri": "https://localhost:8080/",
          "height": 472
        },
        "id": "ICJKaS2vlG7g",
        "outputId": "ee97c8bd-fe46-402b-ddd8-a3f95aabcee5"
      },
      "execution_count": 330,
      "outputs": [
        {
          "output_type": "display_data",
          "data": {
            "text/plain": [
              "<Figure size 640x480 with 1 Axes>"
            ],
            "image/png": "[encoded data removed]"
          },
          "metadata": {}
        }
      ]
    },
    {
      "cell_type": "code",
      "source": [],
      "metadata": {
        "id": "CKjQJnJXo5Uq"
      },
      "execution_count": 324,
      "outputs": []
    }
  ]
}